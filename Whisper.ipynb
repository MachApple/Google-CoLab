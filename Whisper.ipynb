{
  "nbformat": 4,
  "nbformat_minor": 0,
  "metadata": {
    "colab": {
      "provenance": [],
      "machine_shape": "hm",
      "gpuType": "T4",
      "mount_file_id": "1MhQk2HWS0QGHwq0u19WksWtSZfmTm8ap",
      "authorship_tag": "ABX9TyMZNJhKNzeNerRfrgA+EmUm",
      "include_colab_link": true
    },
    "kernelspec": {
      "name": "python3",
      "display_name": "Python 3"
    },
    "language_info": {
      "name": "python"
    },
    "accelerator": "GPU"
  },
  "cells": [
    {
      "cell_type": "markdown",
      "metadata": {
        "id": "view-in-github",
        "colab_type": "text"
      },
      "source": [
        "<a href=\"https://colab.research.google.com/github/MachApple/MachApple/blob/master/Whisper.ipynb\" target=\"_parent\"><img src=\"https://colab.research.google.com/assets/colab-badge.svg\" alt=\"Open In Colab\"/></a>"
      ]
    },
    {
      "cell_type": "code",
      "execution_count": 1,
      "metadata": {
        "colab": {
          "base_uri": "https://localhost:8080/"
        },
        "id": "lVQUINVWwtI4",
        "outputId": "2c53b067-d181-4c9a-ac5f-f58abd5558f9"
      },
      "outputs": [
        {
          "output_type": "stream",
          "name": "stdout",
          "text": [
            "Collecting git+https://github.com/openai/whisper.git\n",
            "  Cloning https://github.com/openai/whisper.git to /tmp/pip-req-build-2sjtjox5\n",
            "  Running command git clone --filter=blob:none --quiet https://github.com/openai/whisper.git /tmp/pip-req-build-2sjtjox5\n",
            "  Resolved https://github.com/openai/whisper.git to commit f572f2161ba831bae131364c3bffdead7af6d210\n",
            "  Installing build dependencies ... \u001b[?25l\u001b[?25hdone\n",
            "  Getting requirements to build wheel ... \u001b[?25l\u001b[?25hdone\n",
            "  Preparing metadata (pyproject.toml) ... \u001b[?25l\u001b[?25hdone\n",
            "Requirement already satisfied: triton==2.0.0 in /usr/local/lib/python3.10/dist-packages (from openai-whisper==20230314) (2.0.0)\n",
            "Requirement already satisfied: numba in /usr/local/lib/python3.10/dist-packages (from openai-whisper==20230314) (0.56.4)\n",
            "Requirement already satisfied: numpy in /usr/local/lib/python3.10/dist-packages (from openai-whisper==20230314) (1.22.4)\n",
            "Requirement already satisfied: torch in /usr/local/lib/python3.10/dist-packages (from openai-whisper==20230314) (2.0.1+cu118)\n",
            "Requirement already satisfied: tqdm in /usr/local/lib/python3.10/dist-packages (from openai-whisper==20230314) (4.65.0)\n",
            "Requirement already satisfied: more-itertools in /usr/local/lib/python3.10/dist-packages (from openai-whisper==20230314) (9.1.0)\n",
            "Collecting tiktoken==0.3.3 (from openai-whisper==20230314)\n",
            "  Downloading tiktoken-0.3.3-cp310-cp310-manylinux_2_17_x86_64.manylinux2014_x86_64.whl (1.7 MB)\n",
            "\u001b[2K     \u001b[90m━━━━━━━━━━━━━━━━━━━━━━━━━━━━━━━━━━━━━━━━\u001b[0m \u001b[32m1.7/1.7 MB\u001b[0m \u001b[31m18.8 MB/s\u001b[0m eta \u001b[36m0:00:00\u001b[0m\n",
            "\u001b[?25hRequirement already satisfied: regex>=2022.1.18 in /usr/local/lib/python3.10/dist-packages (from tiktoken==0.3.3->openai-whisper==20230314) (2022.10.31)\n",
            "Requirement already satisfied: requests>=2.26.0 in /usr/local/lib/python3.10/dist-packages (from tiktoken==0.3.3->openai-whisper==20230314) (2.27.1)\n",
            "Requirement already satisfied: cmake in /usr/local/lib/python3.10/dist-packages (from triton==2.0.0->openai-whisper==20230314) (3.25.2)\n",
            "Requirement already satisfied: filelock in /usr/local/lib/python3.10/dist-packages (from triton==2.0.0->openai-whisper==20230314) (3.12.2)\n",
            "Requirement already satisfied: lit in /usr/local/lib/python3.10/dist-packages (from triton==2.0.0->openai-whisper==20230314) (16.0.6)\n",
            "Requirement already satisfied: llvmlite<0.40,>=0.39.0dev0 in /usr/local/lib/python3.10/dist-packages (from numba->openai-whisper==20230314) (0.39.1)\n",
            "Requirement already satisfied: setuptools in /usr/local/lib/python3.10/dist-packages (from numba->openai-whisper==20230314) (67.7.2)\n",
            "Requirement already satisfied: typing-extensions in /usr/local/lib/python3.10/dist-packages (from torch->openai-whisper==20230314) (4.6.3)\n",
            "Requirement already satisfied: sympy in /usr/local/lib/python3.10/dist-packages (from torch->openai-whisper==20230314) (1.11.1)\n",
            "Requirement already satisfied: networkx in /usr/local/lib/python3.10/dist-packages (from torch->openai-whisper==20230314) (3.1)\n",
            "Requirement already satisfied: jinja2 in /usr/local/lib/python3.10/dist-packages (from torch->openai-whisper==20230314) (3.1.2)\n",
            "Requirement already satisfied: urllib3<1.27,>=1.21.1 in /usr/local/lib/python3.10/dist-packages (from requests>=2.26.0->tiktoken==0.3.3->openai-whisper==20230314) (1.26.16)\n",
            "Requirement already satisfied: certifi>=2017.4.17 in /usr/local/lib/python3.10/dist-packages (from requests>=2.26.0->tiktoken==0.3.3->openai-whisper==20230314) (2023.5.7)\n",
            "Requirement already satisfied: charset-normalizer~=2.0.0 in /usr/local/lib/python3.10/dist-packages (from requests>=2.26.0->tiktoken==0.3.3->openai-whisper==20230314) (2.0.12)\n",
            "Requirement already satisfied: idna<4,>=2.5 in /usr/local/lib/python3.10/dist-packages (from requests>=2.26.0->tiktoken==0.3.3->openai-whisper==20230314) (3.4)\n",
            "Requirement already satisfied: MarkupSafe>=2.0 in /usr/local/lib/python3.10/dist-packages (from jinja2->torch->openai-whisper==20230314) (2.1.3)\n",
            "Requirement already satisfied: mpmath>=0.19 in /usr/local/lib/python3.10/dist-packages (from sympy->torch->openai-whisper==20230314) (1.3.0)\n",
            "Building wheels for collected packages: openai-whisper\n",
            "  Building wheel for openai-whisper (pyproject.toml) ... \u001b[?25l\u001b[?25hdone\n",
            "  Created wheel for openai-whisper: filename=openai_whisper-20230314-py3-none-any.whl size=798232 sha256=4ba13f45075cca5722423fa693705953b93f46dbcbdb223063ed0a8ebe4542e6\n",
            "  Stored in directory: /tmp/pip-ephem-wheel-cache-ne_t1jaq/wheels/8b/6c/d0/622666868c179f156cf595c8b6f06f88bc5d80c4b31dccaa03\n",
            "Successfully built openai-whisper\n",
            "Installing collected packages: tiktoken, openai-whisper\n",
            "Successfully installed openai-whisper-20230314 tiktoken-0.3.3\n",
            "Get:1 https://cloud.r-project.org/bin/linux/ubuntu focal-cran40/ InRelease [3,622 B]\n",
            "Get:2 https://developer.download.nvidia.com/compute/cuda/repos/ubuntu2004/x86_64  InRelease [1,581 B]\n",
            "Get:3 https://cloud.r-project.org/bin/linux/ubuntu focal-cran40/ Packages [81.0 kB]\n",
            "Get:4 https://developer.download.nvidia.com/compute/cuda/repos/ubuntu2004/x86_64  Packages [1,079 kB]\n",
            "Get:5 http://security.ubuntu.com/ubuntu focal-security InRelease [114 kB]\n",
            "Hit:6 http://archive.ubuntu.com/ubuntu focal InRelease\n",
            "Hit:7 http://ppa.launchpad.net/c2d4u.team/c2d4u4.0+/ubuntu focal InRelease\n",
            "Get:8 http://archive.ubuntu.com/ubuntu focal-updates InRelease [114 kB]\n",
            "Hit:9 http://ppa.launchpad.net/cran/libgit2/ubuntu focal InRelease\n",
            "Hit:10 http://ppa.launchpad.net/deadsnakes/ppa/ubuntu focal InRelease\n",
            "Get:11 http://archive.ubuntu.com/ubuntu focal-backports InRelease [108 kB]\n",
            "Get:12 http://ppa.launchpad.net/graphics-drivers/ppa/ubuntu focal InRelease [24.3 kB]\n",
            "Get:13 http://archive.ubuntu.com/ubuntu focal-updates/restricted amd64 Packages [2,636 kB]\n",
            "Hit:14 http://ppa.launchpad.net/ubuntugis/ppa/ubuntu focal InRelease\n",
            "Get:15 http://ppa.launchpad.net/graphics-drivers/ppa/ubuntu focal/main amd64 Packages [44.1 kB]\n",
            "Get:16 http://archive.ubuntu.com/ubuntu focal-updates/multiverse amd64 Packages [39.5 kB]\n",
            "Fetched 4,246 kB in 3s (1,241 kB/s)\n",
            "Reading package lists... Done\n",
            "Building dependency tree       \n",
            "Reading state information... Done\n",
            "20 packages can be upgraded. Run 'apt list --upgradable' to see them.\n",
            "Reading package lists... Done\n",
            "Building dependency tree       \n",
            "Reading state information... Done\n",
            "ffmpeg is already the newest version (7:4.2.7-0ubuntu0.1).\n",
            "0 upgraded, 0 newly installed, 0 to remove and 20 not upgraded.\n"
          ]
        }
      ],
      "source": [
        "# パッケージのインストール\n",
        "!pip install git+https://github.com/openai/whisper.git\n",
        "!sudo apt update\n",
        "!sudo apt install ffmpeg"
      ]
    },
    {
      "cell_type": "code",
      "source": [
        "### 例2  google driveの マイドライブ直下にある tmp_audio.mp3 を指定した場合 ###\n",
        "!whisper /content/drive/MyDrive/ppp_20221126_2101_L.mp3 --model large-v2 --language Japanese -o /content/drive/MyDrive/result"
      ],
      "metadata": {
        "colab": {
          "base_uri": "https://localhost:8080/"
        },
        "id": "XUc7DM7fx8zW",
        "outputId": "aaf9a5ba-8051-404d-eddd-840f4db37db6"
      },
      "execution_count": 2,
      "outputs": [
        {
          "output_type": "stream",
          "name": "stdout",
          "text": [
            "100%|██████████████████████████████████████| 2.87G/2.87G [00:22<00:00, 137MiB/s]\n",
            "[00:30.000 --> 00:32.000] おうちでた\n",
            "[00:44.000 --> 00:46.000] おーまおうち\n",
            "[01:00.000 --> 01:02.000] おうちでた\n",
            "[01:04.000 --> 01:06.000] おうちでた\n",
            "[01:06.000 --> 01:08.000] え?どこ?\n",
            "[01:08.000 --> 01:10.000] おうち\n",
            "[01:10.000 --> 01:12.000] ほら\n",
            "[01:16.000 --> 01:18.000] ほら\n",
            "[01:18.000 --> 01:20.000] ほら\n",
            "[01:24.000 --> 01:26.000] ちゃんと言うな\n",
            "[01:26.000 --> 01:28.000] ここだ\n",
            "[01:30.000 --> 01:32.000] おうちに戻って\n",
            "[01:32.000 --> 01:34.000] うるさい\n",
            "[01:34.000 --> 01:36.000] おうちに戻って\n",
            "[01:36.000 --> 01:38.000] うるさい\n",
            "[01:42.000 --> 01:44.000] おうちに戻った\n",
            "[01:44.000 --> 01:46.000] こんな場所でなさないでよ\n",
            "[01:46.000 --> 01:48.000] ねえ?うなさん\n",
            "[01:48.000 --> 01:50.000] わかった\n",
            "[01:52.000 --> 01:54.000] みなさん\n",
            "[01:54.000 --> 01:56.000] おうちに出る前に\n",
            "[01:56.000 --> 01:58.000] うてて\n",
            "[01:58.000 --> 02:00.000] ママ、おうちに出るって言って。\n",
            "[02:00.000 --> 02:02.000] ママ、おうちに出た。\n",
            "[02:02.000 --> 02:04.000] 出たじゃん。出る前に言う。\n",
            "[02:06.000 --> 02:08.000] みなさん、分かった?\n",
            "[02:08.000 --> 02:10.000] 本当?\n",
            "[02:18.000 --> 02:20.000] みなさん、分かった?\n",
            "[02:22.000 --> 02:24.000] どう?出た?\n",
            "[02:24.000 --> 02:26.000] 出たって言って。\n",
            "[02:26.000 --> 02:28.000] 誰か、おうちに出て。\n",
            "[02:34.000 --> 02:36.000] うるさいよ。\n",
            "[02:36.000 --> 02:38.000] おうちに。\n",
            "[02:38.000 --> 02:40.000] 出ないで。\n",
            "[02:40.000 --> 02:42.000] 出ないで。\n",
            "[02:44.000 --> 02:46.000] そのままで。\n",
            "[02:46.000 --> 02:48.000] 出ないで。\n",
            "[02:48.000 --> 02:50.000] 犬「おうちに出るの?」\n",
            "[02:50.000 --> 02:52.000] 犬「おうちに出るの?」\n",
            "[02:52.000 --> 02:54.000] 犬「おうちに出るの?」\n",
            "[02:54.000 --> 02:56.000] 犬「おうちに出るの?」\n",
            "[02:56.000 --> 02:58.000] 犬「おうちに出るの?」\n",
            "[02:58.000 --> 03:00.000] 犬「おうちに出るの?」\n",
            "[03:00.000 --> 03:02.000] 犬「おうちに出るの?」\n",
            "[03:02.000 --> 03:04.000] 犬「おうちに出るの?」\n",
            "[03:04.000 --> 03:06.000] 犬「おうちに出るの?」\n",
            "[03:06.000 --> 03:08.000] 犬「おうちに出るの?」\n",
            "[03:08.000 --> 03:10.000] 犬「おうちに出るの?」\n",
            "[03:10.000 --> 03:12.000] 犬「おうちに出るの?」\n",
            "[03:12.000 --> 03:14.000] 犬「おうちに出るの?」\n",
            "[03:14.000 --> 03:16.000] 犬「おうちに出るの?」\n",
            "[03:16.000 --> 03:18.000] 犬「おうちに出るの?」\n",
            "[03:18.000 --> 03:20.000] 犬「おうちに出るの?」\n",
            "[03:20.000 --> 03:22.000] 犬「おうちに出るの?」\n",
            "[03:22.000 --> 03:24.000] 犬「おうちに出るの?」\n",
            "[03:24.000 --> 03:26.000] 犬「おうちに出るの?」\n",
            "[03:26.000 --> 03:28.000] 犬「おうちに出るの?」\n",
            "[03:28.000 --> 03:30.000] 犬「おうちに出るの?」\n",
            "[03:30.000 --> 03:32.000] 犬「おうちに出るの?」\n",
            "[03:32.000 --> 03:34.000] 犬「おうちに出るの?」\n",
            "[03:34.000 --> 03:36.000] 犬「おうちに出るの?」\n",
            "[03:36.000 --> 03:38.000] 犬「おうちに出るの?」\n",
            "[03:38.000 --> 03:40.000] 犬「おうちに出るの?」\n",
            "[03:40.000 --> 03:42.000] 犬「おうちに出るの?」\n",
            "[03:42.000 --> 03:44.000] 犬「おうちに出るの?」\n",
            "[03:44.000 --> 03:46.000] 犬「おうちに出るの?」\n",
            "[03:46.000 --> 03:48.000] 犬「おうちに出るの?」\n",
            "[03:48.000 --> 03:50.000] 犬「おうちに出るよ?」\n",
            "[03:54.000 --> 03:56.000] 犬「おうちに出るの?」\n",
            "[03:56.000 --> 03:58.000] 犬「おうちに出るよ?」\n",
            "[03:58.000 --> 04:00.000] 犬「おうちに出るの?」\n",
            "[04:04.000 --> 04:06.000] 犬「おうちに出るの?」\n",
            "[04:06.000 --> 04:10.000] 犬「おうちに出るよ?」\n",
            "[04:10.000 --> 04:12.000] 犬「おうちに打� buatekiki?」\n",
            "[04:12.000 --> 04:42.000] 犬「ごめんなさい、ごめんなさい、ごめんなさい、、、、、、、、、、、、、、、、、、、、、、、、、、、、、、、、、、、、、、、、、、、、、、、、、、、、、、、、、、、、、、、、、、、�\n",
            "[04:42.000 --> 05:12.000] 、、、、、、、、、、、、、、、、、、、、、、、、、、、、、、、、、、、、、、、、、、、、、、、、、、、、、、、、、、、、、、、、、、、、、、、、、�\n",
            "[05:12.000 --> 05:42.000] 、、、、、、、、、、、、、、、、、、、、、、、、、、、、、、、、、、、、、、、、、、、、、、、、、、、、、、、、、、、、、、、、、、、、、、、、、�\n",
            "[05:42.000 --> 05:44.000] 、、、、\n",
            "[06:42.000 --> 06:44.000] 、、\n",
            "[07:12.000 --> 07:14.000] 、、、\n",
            "[07:42.000 --> 07:44.000] 、、、\n",
            "[08:12.000 --> 08:14.000] 、、、、\n",
            "[08:42.000 --> 08:45.000] 、、、\n",
            "[09:12.000 --> 09:15.000] 、、、\n",
            "[09:42.000 --> 09:45.000] 、、、、\n",
            "[10:12.000 --> 10:14.000] 、、、、、、、、、、、、、、、、、、\n"
          ]
        }
      ]
    },
    {
      "cell_type": "code",
      "source": [
        "!cp /content/result/* /content/drive/MyDrive/result"
      ],
      "metadata": {
        "id": "YuXQYWNr7t9l"
      },
      "execution_count": null,
      "outputs": []
    }
  ]
}